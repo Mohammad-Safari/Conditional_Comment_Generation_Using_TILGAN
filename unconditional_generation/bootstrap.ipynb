{
 "cells": [
  {
   "cell_type": "code",
   "execution_count": 68,
   "metadata": {},
   "outputs": [],
   "source": [
    "import _pickle as pk\n",
    "\n",
    "with open('./data/NewsData/vocab_news.pkl', 'rb') as f:\n",
    "    ds = pk.load(f, encoding='latin1')"
   ]
  },
  {
   "cell_type": "code",
   "execution_count": 57,
   "metadata": {},
   "outputs": [
    {
     "data": {
      "text/plain": [
       "['_PAD',\n",
       " '_GO',\n",
       " '_EOS',\n",
       " '_UNK',\n",
       " 'yellow',\n",
       " 'four',\n",
       " 'Olympics',\n",
       " 'hanging',\n",
       " 'Until',\n",
       " 'looking',\n",
       " 'eligible',\n",
       " 'electricity',\n",
       " 'Ronald',\n",
       " 'Western',\n",
       " 'regional',\n",
       " 'stabbed',\n",
       " 'bringing',\n",
       " 'Spurs',\n",
       " 'prize',\n",
       " 'wooden',\n",
       " 'Paul',\n",
       " 'straight',\n",
       " 'tired',\n",
       " 'Matthew']"
      ]
     },
     "execution_count": 57,
     "metadata": {},
     "output_type": "execute_result"
    }
   ],
   "source": [
    "ds[0][:24]"
   ]
  },
  {
   "cell_type": "code",
   "execution_count": 53,
   "metadata": {},
   "outputs": [
    {
     "data": {
      "text/plain": [
       "[('yellow', 4),\n",
       " ('four', 5),\n",
       " ('Olympics', 6),\n",
       " ('hanging', 7),\n",
       " ('Until', 8),\n",
       " ('looking', 9),\n",
       " ('eligible', 10),\n",
       " ('electricity', 11),\n",
       " ('Ronald', 12),\n",
       " ('Western', 13),\n",
       " ('regional', 14),\n",
       " ('stabbed', 15),\n",
       " ('bringing', 16),\n",
       " ('Spurs', 17),\n",
       " ('prize', 18),\n",
       " ('wooden', 19),\n",
       " ('Paul', 20),\n",
       " ('straight', 21),\n",
       " ('tired', 22),\n",
       " ('Matthew', 23)]"
      ]
     },
     "execution_count": 53,
     "metadata": {},
     "output_type": "execute_result"
    }
   ],
   "source": [
    "list(ds[1].items())[:20]"
   ]
  },
  {
   "cell_type": "code",
   "execution_count": 59,
   "metadata": {},
   "outputs": [],
   "source": [
    "import pandas as pd\n",
    "\n",
    "import re\n",
    "\n",
    "\n",
    "# Load the CSV file\n",
    "\n",
    "df = pd.read_csv('../conditional_generation/text_data/FinalDataWithSwearDetectedAndStanceAndCleaned1402_10_24.csv')\n",
    "\n",
    "\n",
    "# Extract Persian words from the `main_tweet` and `reply` columns\n",
    "\n",
    "persian_words = set()\n",
    "\n",
    "\n",
    "for column in ['main_tweet', 'reply_tweet']:\n",
    "\n",
    "    for text in df[column]:\n",
    "\n",
    "        words = re.findall(r'[\\u0600-\\u06FF]+', text)  # Regex for Persian characters\n",
    "\n",
    "        persian_words.update(words)\n",
    "\n",
    "\n",
    "# Convert the set to a sorted list\n",
    "\n",
    "persian_word_list = sorted(persian_words)"
   ]
  },
  {
   "cell_type": "code",
   "execution_count": 74,
   "metadata": {},
   "outputs": [],
   "source": [
    "original_data = [persian_word_list, {persian_word_list[i-4]:i for i in range(4, len(persian_word_list)+4)}]\n",
    "with open('new_vocab.pkl', 'wb') as f:\n",
    "    pk.dump(original_data, f)\n"
   ]
  },
  {
   "cell_type": "code",
   "execution_count": 75,
   "metadata": {},
   "outputs": [],
   "source": [
    "sampled_main_tweets = df['main_tweet'].sample(n=60000, random_state=1)\n",
    "\n",
    "sampled_replies = df['reply_tweet'].sample(n=100000, random_state=1)\n",
    "\n",
    "\n",
    "# Combine into a single DataFrame\n",
    "\n",
    "combined_samples = pd.concat([sampled_main_tweets, sampled_replies], ignore_index=True)\n",
    "\n",
    "\n",
    "# Write to a text file, each sentence on a new line\n",
    "\n",
    "combined_samples.to_csv('sampled_tweets.txt', index=False, header=False)"
   ]
  }
 ],
 "metadata": {
  "kernelspec": {
   "display_name": ".venw3.6uc",
   "language": "python",
   "name": "python3"
  },
  "language_info": {
   "codemirror_mode": {
    "name": "ipython",
    "version": 3
   },
   "file_extension": ".py",
   "mimetype": "text/x-python",
   "name": "python",
   "nbconvert_exporter": "python",
   "pygments_lexer": "ipython3",
   "version": "3.6.8"
  }
 },
 "nbformat": 4,
 "nbformat_minor": 2
}
