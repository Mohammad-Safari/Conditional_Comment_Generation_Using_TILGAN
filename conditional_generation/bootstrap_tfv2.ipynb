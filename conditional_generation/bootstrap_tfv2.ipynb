{
  "cells": [
    {
      "cell_type": "code",
      "execution_count": null,
      "metadata": {},
      "outputs": [],
      "source": [
        "!git clone https://github.com/mohammad-safari/Conditional_Comment_Generation_Using_TILGAN tilgan"
      ]
    },
    {
      "cell_type": "code",
      "execution_count": null,
      "metadata": {
        "colab": {
          "base_uri": "https://localhost:8080/"
        },
        "id": "JUcDId7DMDDY",
        "outputId": "5e57170d-cff6-4814-83b1-dae7d2328713"
      },
      "outputs": [],
      "source": [
        "%cd /content/tilgan\n",
        "!git checkout tfv2upgrade"
      ]
    },
    {
      "cell_type": "code",
      "execution_count": null,
      "metadata": {
        "colab": {
          "base_uri": "https://localhost:8080/"
        },
        "id": "WbkHPACmQsvo",
        "outputId": "99a75a9a-60da-437f-e5c6-cd70cdc98e4a"
      },
      "outputs": [],
      "source": [
        "# !tf_upgrade_v2 \\\n",
        "#   --intree /content/tilgan/conditional_generation/ \\\n",
        "#   --outtree /content/tilgan/conditional_generation/ \\\n",
        "#   --reportfile report.txt"
      ]
    },
    {
      "cell_type": "code",
      "execution_count": null,
      "metadata": {
        "colab": {
          "base_uri": "https://localhost:8080/"
        },
        "id": "4mb9rC3MRCkZ",
        "outputId": "3f9c2c92-7db5-4d08-fe02-ff0715e60c91"
      },
      "outputs": [],
      "source": [
        "%cd /content/tilgan/conditional_generation"
      ]
    },
    {
      "cell_type": "code",
      "execution_count": 5,
      "metadata": {
        "id": "0T6JngqsRHsV"
      },
      "outputs": [],
      "source": [
        "!mkdir -p output/tilgan model"
      ]
    },
    {
      "cell_type": "code",
      "execution_count": null,
      "metadata": {},
      "outputs": [],
      "source": [
        "from google.colab import drive\n",
        "drive.mount('/content/drive')"
      ]
    },
    {
      "cell_type": "code",
      "execution_count": null,
      "metadata": {},
      "outputs": [],
      "source": [
        "%mv data old_data\n",
        "%cp /content/drive/MyDrive/projections123/*.ids /data\n",
        "%cp /content/drive/MyDrive/projections123/reduced* /data\n"
      ]
    },
    {
      "cell_type": "code",
      "execution_count": null,
      "metadata": {
        "colab": {
          "base_uri": "https://localhost:8080/"
        },
        "id": "Ku17_P0CMQSd",
        "outputId": "c3156aa6-f6c4-420e-81f7-4c57e4fe05d9"
      },
      "outputs": [],
      "source": [
        "!python train.py"
      ]
    }
  ],
  "metadata": {
    "accelerator": "GPU",
    "colab": {
      "provenance": []
    },
    "gpuClass": "standard",
    "kernelspec": {
      "display_name": "Python 3",
      "name": "python3"
    },
    "language_info": {
      "name": "python"
    }
  },
  "nbformat": 4,
  "nbformat_minor": 0
}
