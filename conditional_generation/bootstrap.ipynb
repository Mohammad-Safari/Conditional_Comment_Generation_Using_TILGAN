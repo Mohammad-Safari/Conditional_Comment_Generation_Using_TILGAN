{
 "cells": [
  {
   "cell_type": "code",
   "execution_count": null,
   "metadata": {},
   "outputs": [],
   "source": [
    "!python3 --version"
   ]
  },
  {
   "cell_type": "code",
   "execution_count": null,
   "metadata": {},
   "outputs": [],
   "source": [
    "# first install python 3.7\n",
    "!sudo apt-get update -y\n",
    "!sudo apt-get install python3.7\n",
    "# change alternatives\n",
    "!sudo update-alternatives --install /usr/bin/python3 python3 /usr/bin/python3.7 1\n",
    "# select python version\n",
    "!sudo update-alternatives --config python3\n",
    "# check python version\n",
    "!python --version\n",
    "# install pip for new python\n",
    "!sudo apt-get install python3.7-distutils\n",
    "!wget https://bootstrap.pypa.io/get-pip.py\n",
    "!python get-pip.py\n",
    "# upgrade pip\n",
    "!sudo apt install python3-pip\n",
    "!python -m pip install --upgrade pip"
   ]
  },
  {
   "cell_type": "code",
   "execution_count": null,
   "metadata": {},
   "outputs": [],
   "source": [
    "!python3 --version\n",
    "!pip --version"
   ]
  },
  {
   "cell_type": "code",
   "execution_count": null,
   "metadata": {},
   "outputs": [],
   "source": [
    "!git clone -b tfv1collabnotebook https://github.com/mohammad-safari/Conditional_Comment_Generation_Using_TILGAN tilgan && cp -r tilgan/conditional_generation/** .\n",
    "!python -m pip install -r requirements.txt && pip install tensorflow==1.13.1"
   ]
  },
  {
   "cell_type": "code",
   "execution_count": null,
   "metadata": {},
   "outputs": [],
   "source": [
    "# %tensorflow_version 1.13.1\n",
    "!mkdir -p output/tilgan model\n",
    "!python train.py --batch_size 16"
   ]
  }
 ],
 "metadata": {
  "language_info": {
   "name": "python"
  },
  "orig_nbformat": 4
 },
 "nbformat": 4,
 "nbformat_minor": 2
}
